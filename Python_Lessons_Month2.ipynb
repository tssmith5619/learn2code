{
 "cells": [
  {
   "cell_type": "code",
   "execution_count": 2,
   "id": "511b9aef-7907-4f38-befc-a03778cdc364",
   "metadata": {},
   "outputs": [
    {
     "name": "stdout",
     "output_type": "stream",
     "text": [
      "Collecting biopython\n",
      "  Downloading biopython-1.85-cp312-cp312-manylinux_2_17_x86_64.manylinux2014_x86_64.whl.metadata (13 kB)\n",
      "Collecting numpy (from biopython)\n",
      "  Using cached numpy-2.2.4-cp312-cp312-manylinux_2_17_x86_64.manylinux2014_x86_64.whl.metadata (62 kB)\n",
      "Downloading biopython-1.85-cp312-cp312-manylinux_2_17_x86_64.manylinux2014_x86_64.whl (3.3 MB)\n",
      "\u001b[2K   \u001b[90m━━━━━━━━━━━━━━━━━━━━━━━━━━━━━━━━━━━━━━━━\u001b[0m \u001b[32m3.3/3.3 MB\u001b[0m \u001b[31m5.4 MB/s\u001b[0m eta \u001b[36m0:00:00\u001b[0ma \u001b[36m0:00:01\u001b[0m\n",
      "\u001b[?25hUsing cached numpy-2.2.4-cp312-cp312-manylinux_2_17_x86_64.manylinux2014_x86_64.whl (16.1 MB)\n",
      "Installing collected packages: numpy, biopython\n",
      "Successfully installed biopython-1.85 numpy-2.2.4\n",
      "ATGCTA-GCG\n",
      "|||| | |||\n",
      "ATGC-ATGCG\n",
      "  Score=8\n",
      "\n",
      "ATGC-TAGCG\n",
      "|||| | |||\n",
      "ATGCAT-GCG\n",
      "  Score=8\n",
      "\n"
     ]
    },
    {
     "name": "stderr",
     "output_type": "stream",
     "text": [
      "/home/tuartmith/myenv/lib/python3.12/site-packages/Bio/pairwise2.py:278: BiopythonDeprecationWarning: Bio.pairwise2 has been deprecated, and we intend to remove it in a future release of Biopython. As an alternative, please consider using Bio.Align.PairwiseAligner as a replacement, and contact the Biopython developers if you still need the Bio.pairwise2 module.\n",
      "  warnings.warn(\n"
     ]
    }
   ],
   "source": [
    "!pip install biopython\n",
    "\n",
    "from Bio import pairwise2\n",
    "from Bio.pairwise2 import format_alignment\n",
    "\n",
    "seqA = \"ATGCTAGCG\"\n",
    "seqB = \"ATGCATGCG\"\n",
    "\n",
    "alignments = pairwise2.align.globalxx(seqA,seqB)\n",
    "\n",
    "for alignment in alignments:\n",
    "    print(format_alignment(*alignment))"
   ]
  },
  {
   "cell_type": "code",
   "execution_count": 2,
   "id": "8039ba5b-a891-44d7-bfc6-b0607c3a2029",
   "metadata": {},
   "outputs": [
    {
     "name": "stdout",
     "output_type": "stream",
     "text": [
      "1.85\n"
     ]
    }
   ],
   "source": [
    "import Bio\n",
    "print(Bio.__version__)"
   ]
  },
  {
   "cell_type": "code",
   "execution_count": 3,
   "id": "238706e6-0946-4619-8038-7edbfb657c14",
   "metadata": {},
   "outputs": [
    {
     "name": "stdout",
     "output_type": "stream",
     "text": [
      "target            0 ATGCTA-GCG  9\n",
      "                  0 ||||-|-||| 10\n",
      "query             0 ATGC-ATGCG  9\n",
      "\n",
      "target            0 ATGC-TAGCG  9\n",
      "                  0 ||||-|-||| 10\n",
      "query             0 ATGCAT-GCG  9\n",
      "\n"
     ]
    }
   ],
   "source": [
    "from Bio.Align import PairwiseAligner\n",
    "\n",
    "seqA = \"ATGCTAGCG\"\n",
    "seqB = \"ATGCATGCG\"\n",
    "\n",
    "aligner = PairwiseAligner()\n",
    "alignments = aligner.align(seqA, seqB)\n",
    "\n",
    "# Print top alignment clearly\n",
    "for alignment in alignments:\n",
    "    print(alignment)\n"
   ]
  },
  {
   "cell_type": "code",
   "execution_count": 2,
   "id": "da8e66c6-03fc-41e4-8d7e-1a265c0d4879",
   "metadata": {},
   "outputs": [
    {
     "name": "stdout",
     "output_type": "stream",
     "text": [
      "Alignment with 3 rows and 12 columns\n",
      "ATGCTAGCGTAC seq1\n",
      "ATGCGAGCGTAC seq2\n",
      "ATGCTAACGTGC seq3\n"
     ]
    }
   ],
   "source": [
    "from Bio.Align.Applications import ClustalwCommandline\n",
    "from Bio import AlignIO\n",
    "\n",
    "# Save sequences to FASTA\n",
    "with open(\"example.fasta\", \"w\") as file:\n",
    "    file.write(\">seq1\\nATGCTAGCGTAC\\n\")\n",
    "    file.write(\">seq2\\nATGCGAGCGTAC\\n\")\n",
    "    file.write(\">seq3\\nATGCTAACGTGC\\n\")\n",
    "\n",
    "# Perform MSA\n",
    "cline = ClustalwCommandline(\"clustalw\", infile=\"example.fasta\")\n",
    "stdout, stderr = cline()\n",
    "\n",
    "# Load and print alignment\n",
    "alignment = AlignIO.read(\"example.aln\", \"clustal\")\n",
    "print(alignment)\n"
   ]
  },
  {
   "cell_type": "code",
   "execution_count": 4,
   "id": "92442bc3-0c2e-4804-b2f9-51bf3c1c2826",
   "metadata": {},
   "outputs": [],
   "source": [
    "from Bio.Blast import NCBIWWW, NCBIXML\n",
    "sequence = \"ATGCTAGCGTAC\"  # Shorter = faster response\n",
    "\n",
    "result_handle = NCBIWWW.qblast(\"blastn\", \"nt\", sequence)\n",
    "\n",
    "with open(\"blast_results.xml\", \"w\") as out_handle:\n",
    "    out_handle.write(result_handle.read())\n",
    "    result_handle.close()\n",
    "\n",
    "with open(\"blast_results.xml\") as result_handle:\n",
    "    blast_record = NCBIXML.read(result_handle)\n",
    "\n",
    "for alignment in blast_record.alignments[:3]:\n",
    "    for hsp in alignment.hsps:\n",
    "        print('****Alignment****')\n",
    "        print('Sequence:', alignment.title)\n",
    "        print('Length:', alignment.length)\n",
    "        print('E-value:', hsp.expect)\n",
    "        print(hsp.query[0:50] + '...')\n",
    "        print(hsp.match[0:50] + '...')\n",
    "        print(hsp.sbjt[0.50] + '...')\n"
   ]
  },
  {
   "cell_type": "code",
   "execution_count": 5,
   "id": "1a63a30a-b4f2-447d-a560-18e8826417dd",
   "metadata": {},
   "outputs": [
    {
     "name": "stdout",
     "output_type": "stream",
     "text": [
      "No significant matches found.\n"
     ]
    }
   ],
   "source": [
    "from Bio.Blast import NCBIXML\n",
    "\n",
    "with open(\"blast_results.xml\") as result_handle:\n",
    "    blast_record = NCBIXML.read(result_handle)\n",
    "\n",
    "if blast_record.alignments:\n",
    "    for alignment in blast_record.alignments[:3]:\n",
    "        for hsp in alignment.hsps:\n",
    "            print(\"****Alignment****\")\n",
    "            print(\"Sequence:\", alignment.title)\n",
    "            print(\"Length:\", alignment.length)\n",
    "            print(\"E-value:\", hsp.expect)\n",
    "            print(hsp.query[0:50] + \"...\")\n",
    "            print(hsp.match[0:50] + \"...\")\n",
    "            print(hsp.sbjct[0:50] + \"...\")\n",
    "else:\n",
    "    print(\"No significant matches found.\")\n"
   ]
  },
  {
   "cell_type": "code",
   "execution_count": 6,
   "id": "cb116806-0922-4089-bb2d-3374b7f1c847",
   "metadata": {},
   "outputs": [
    {
     "name": "stdout",
     "output_type": "stream",
     "text": [
      "****Alignment****\n",
      "Sequence: gi|358250872|gb|JN834566.1| Uncultured bacterium clone 264E14TEAT 16S ribosomal RNA gene, partial sequence\n",
      "Length: 870\n",
      "E-value: 6.21254e-24\n",
      "AGAGTTTGATCCTGGCTCAGGATGAACGCTGGCGGCGTGCCTAATACATG...\n",
      "||||||||||||||||||||||||||||||||||||||||||||||||||...\n",
      "AGAGTTTGATCCTGGCTCAGGATGAACGCTGGCGGCGTGCCTAATACATG...\n",
      "****Alignment****\n",
      "Sequence: gi|194136909|gb|EU842346.1| Uncultured bacterium clone 1103200821189 16S ribosomal RNA gene, partial sequence\n",
      "Length: 1476\n",
      "E-value: 6.21254e-24\n",
      "AGAGTTTGATCCTGGCTCAGGATGAACGCTGGCGGCGTGCCTAATACATG...\n",
      "||||||||||||||||||||||||||||||||||||||||||||||||||...\n",
      "AGAGTTTGATCCTGGCTCAGGATGAACGCTGGCGGCGTGCCTAATACATG...\n",
      "****Alignment****\n",
      "Sequence: gi|194139008|gb|EU844445.1| Uncultured bacterium clone 1103200831765 16S ribosomal RNA gene, partial sequence\n",
      "Length: 1354\n",
      "E-value: 6.21254e-24\n",
      "AGAGTTTGATCCTGGCTCAGGATGAACGCTGGCGGCGTGCCTAATACATG...\n",
      "||||||||||||||||||||||||||||||||||||||||||||||||||...\n",
      "AGAGTTTGATCCTGGCTCAGGATGAACGCTGGCGGCGTGCCTAATACATG...\n"
     ]
    }
   ],
   "source": [
    "from Bio.Blast import NCBIWWW, NCBIXML\n",
    "\n",
    "sequence = \"AGAGTTTGATCCTGGCTCAGGATGAACGCTGGCGGCGTGCCTAATACATGCAAGTCGAACGGTGAAGGTTAATGTGGG\"\n",
    "\n",
    "# Submit to NCBI BLAST\n",
    "result_handle = NCBIWWW.qblast(\"blastn\", \"nt\", sequence)\n",
    "\n",
    "# Save the results\n",
    "with open(\"blast_results.xml\", \"w\") as out_handle:\n",
    "    out_handle.write(result_handle.read())\n",
    "    result_handle.close()\n",
    "\n",
    "# Parse and display results\n",
    "with open(\"blast_results.xml\") as result_handle:\n",
    "    blast_record = NCBIXML.read(result_handle)\n",
    "\n",
    "if blast_record.alignments:\n",
    "    for alignment in blast_record.alignments[:3]:\n",
    "        for hsp in alignment.hsps:\n",
    "            print(\"****Alignment****\")\n",
    "            print(\"Sequence:\", alignment.title)\n",
    "            print(\"Length:\", alignment.length)\n",
    "            print(\"E-value:\", hsp.expect)\n",
    "            print(hsp.query[0:50] + \"...\")\n",
    "            print(hsp.match[0:50] + \"...\")\n",
    "            print(hsp.sbjct[0:50] + \"...\")\n",
    "else:\n",
    "    print(\"No significant matches found.\")\n"
   ]
  },
  {
   "cell_type": "code",
   "execution_count": 8,
   "id": "b1ab4143-f912-409d-ad85-797ccca8ef1c",
   "metadata": {},
   "outputs": [
    {
     "ename": "FileNotFoundError",
     "evalue": "[Errno 2] No such file or directory: 'example.fastq'",
     "output_type": "error",
     "traceback": [
      "\u001b[31m---------------------------------------------------------------------------\u001b[39m",
      "\u001b[31mFileNotFoundError\u001b[39m                         Traceback (most recent call last)",
      "\u001b[36mCell\u001b[39m\u001b[36m \u001b[39m\u001b[32mIn[8]\u001b[39m\u001b[32m, line 2\u001b[39m\n\u001b[32m      1\u001b[39m \u001b[38;5;28;01mfrom\u001b[39;00m\u001b[38;5;250m \u001b[39m\u001b[34;01mBio\u001b[39;00m\u001b[38;5;250m \u001b[39m\u001b[38;5;28;01mimport\u001b[39;00m SeqIO\n\u001b[32m----> \u001b[39m\u001b[32m2\u001b[39m \u001b[38;5;28;01mfor\u001b[39;00m record \u001b[38;5;129;01min\u001b[39;00m \u001b[43mSeqIO\u001b[49m\u001b[43m.\u001b[49m\u001b[43mparse\u001b[49m\u001b[43m(\u001b[49m\u001b[33;43m\"\u001b[39;49m\u001b[33;43mexample.fastq\u001b[39;49m\u001b[33;43m\"\u001b[39;49m\u001b[43m,\u001b[49m\u001b[33;43m\"\u001b[39;49m\u001b[33;43mfastq\u001b[39;49m\u001b[33;43m\"\u001b[39;49m\u001b[43m)\u001b[49m:\n\u001b[32m      3\u001b[39m     \u001b[38;5;28mprint\u001b[39m(\u001b[33m\"\u001b[39m\u001b[33mRead ID:\u001b[39m\u001b[33m\"\u001b[39m, record.id)\n\u001b[32m      4\u001b[39m     \u001b[38;5;28mprint\u001b[39m(\u001b[33m\"\u001b[39m\u001b[33mSequence:\u001b[39m\u001b[33m\"\u001b[39m, record.seq)\n",
      "\u001b[36mFile \u001b[39m\u001b[32m~/myenv/lib/python3.12/site-packages/Bio/SeqIO/__init__.py:626\u001b[39m, in \u001b[36mparse\u001b[39m\u001b[34m(handle, format, alphabet)\u001b[39m\n\u001b[32m    624\u001b[39m iterator_generator = _FormatToIterator.get(\u001b[38;5;28mformat\u001b[39m)\n\u001b[32m    625\u001b[39m \u001b[38;5;28;01mif\u001b[39;00m iterator_generator:\n\u001b[32m--> \u001b[39m\u001b[32m626\u001b[39m     \u001b[38;5;28;01mreturn\u001b[39;00m \u001b[43miterator_generator\u001b[49m\u001b[43m(\u001b[49m\u001b[43mhandle\u001b[49m\u001b[43m)\u001b[49m\n\u001b[32m    627\u001b[39m \u001b[38;5;28;01mif\u001b[39;00m \u001b[38;5;28mformat\u001b[39m \u001b[38;5;129;01min\u001b[39;00m AlignIO._FormatToIterator:\n\u001b[32m    628\u001b[39m     \u001b[38;5;66;03m# Use Bio.AlignIO to read in the alignments\u001b[39;00m\n\u001b[32m    629\u001b[39m     \u001b[38;5;28;01mreturn\u001b[39;00m (r \u001b[38;5;28;01mfor\u001b[39;00m alignment \u001b[38;5;129;01min\u001b[39;00m AlignIO.parse(handle, \u001b[38;5;28mformat\u001b[39m) \u001b[38;5;28;01mfor\u001b[39;00m r \u001b[38;5;129;01min\u001b[39;00m alignment)\n",
      "\u001b[36mFile \u001b[39m\u001b[32m~/myenv/lib/python3.12/site-packages/Bio/SeqIO/QualityIO.py:1233\u001b[39m, in \u001b[36mFastqPhredIterator.__init__\u001b[39m\u001b[34m(self, source, alphabet)\u001b[39m\n\u001b[32m   1231\u001b[39m \u001b[38;5;28;01mif\u001b[39;00m alphabet \u001b[38;5;129;01mis\u001b[39;00m \u001b[38;5;129;01mnot\u001b[39;00m \u001b[38;5;28;01mNone\u001b[39;00m:\n\u001b[32m   1232\u001b[39m     \u001b[38;5;28;01mraise\u001b[39;00m \u001b[38;5;167;01mValueError\u001b[39;00m(\u001b[33m\"\u001b[39m\u001b[33mThe alphabet argument is no longer supported\u001b[39m\u001b[33m\"\u001b[39m)\n\u001b[32m-> \u001b[39m\u001b[32m1233\u001b[39m \u001b[38;5;28;43msuper\u001b[39;49m\u001b[43m(\u001b[49m\u001b[43m)\u001b[49m\u001b[43m.\u001b[49m\u001b[34;43m__init__\u001b[39;49m\u001b[43m(\u001b[49m\u001b[43msource\u001b[49m\u001b[43m)\u001b[49m\n",
      "\u001b[36mFile \u001b[39m\u001b[32m~/myenv/lib/python3.12/site-packages/Bio/SeqIO/QualityIO.py:1027\u001b[39m, in \u001b[36mFastqIteratorAbstractBaseClass.__init__\u001b[39m\u001b[34m(self, source)\u001b[39m\n\u001b[32m   1018\u001b[39m \u001b[38;5;28;01mdef\u001b[39;00m\u001b[38;5;250m \u001b[39m\u001b[34m__init__\u001b[39m(\u001b[38;5;28mself\u001b[39m, source):\n\u001b[32m   1019\u001b[39m \u001b[38;5;250m    \u001b[39m\u001b[33;03m\"\"\"Iterate over FASTQ records as SeqRecord objects.\u001b[39;00m\n\u001b[32m   1020\u001b[39m \n\u001b[32m   1021\u001b[39m \u001b[33;03m    Arguments:\u001b[39;00m\n\u001b[32m   (...)\u001b[39m\u001b[32m   1025\u001b[39m \u001b[33;03m    attribute under the key `q_key`.\u001b[39;00m\n\u001b[32m   1026\u001b[39m \u001b[33;03m    \"\"\"\u001b[39;00m\n\u001b[32m-> \u001b[39m\u001b[32m1027\u001b[39m     \u001b[38;5;28;43msuper\u001b[39;49m\u001b[43m(\u001b[49m\u001b[43m)\u001b[49m\u001b[43m.\u001b[49m\u001b[34;43m__init__\u001b[39;49m\u001b[43m(\u001b[49m\u001b[43msource\u001b[49m\u001b[43m,\u001b[49m\u001b[43m \u001b[49m\u001b[43mfmt\u001b[49m\u001b[43m=\u001b[49m\u001b[33;43m\"\u001b[39;49m\u001b[33;43mFastq\u001b[39;49m\u001b[33;43m\"\u001b[39;49m\u001b[43m)\u001b[49m\n\u001b[32m   1028\u001b[39m     \u001b[38;5;28mself\u001b[39m.line = \u001b[38;5;28;01mNone\u001b[39;00m\n",
      "\u001b[36mFile \u001b[39m\u001b[32m~/myenv/lib/python3.12/site-packages/Bio/SeqIO/Interfaces.py:81\u001b[39m, in \u001b[36mSequenceIterator.__init__\u001b[39m\u001b[34m(self, source, alphabet, fmt)\u001b[39m\n\u001b[32m     79\u001b[39m \u001b[38;5;28;01mif\u001b[39;00m \u001b[38;5;28misinstance\u001b[39m(source, _PathLikeTypes):\n\u001b[32m     80\u001b[39m     mode = modes[\u001b[32m0\u001b[39m]\n\u001b[32m---> \u001b[39m\u001b[32m81\u001b[39m     \u001b[38;5;28mself\u001b[39m.stream = \u001b[38;5;28;43mopen\u001b[39;49m\u001b[43m(\u001b[49m\u001b[43msource\u001b[49m\u001b[43m,\u001b[49m\u001b[43m \u001b[49m\u001b[33;43m\"\u001b[39;49m\u001b[33;43mr\u001b[39;49m\u001b[33;43m\"\u001b[39;49m\u001b[43m \u001b[49m\u001b[43m+\u001b[49m\u001b[43m \u001b[49m\u001b[43mmode\u001b[49m\u001b[43m)\u001b[49m\n\u001b[32m     82\u001b[39m \u001b[38;5;28;01melse\u001b[39;00m:\n\u001b[32m     83\u001b[39m     value = source.read(\u001b[32m0\u001b[39m)\n",
      "\u001b[31mFileNotFoundError\u001b[39m: [Errno 2] No such file or directory: 'example.fastq'"
     ]
    }
   ],
   "source": [
    "from Bio import SeqIO\n",
    "\n",
    "with open(\"example.fastq\",\"w\") as file:\n",
    "    file.write(\"@read1\\n\")\n",
    "    file.write(\"ATGCTAGCTAG\\n\")\n",
    "    file.write(\"+\\n\")\n",
    "    file.write(\"IIIIIIIIIII\\n\")\n",
    "    file.write\n",
    "\n",
    "for record in SeqIO.parse(\"example.fastq\",\"fastq\"):\n",
    "    print(\"Read ID:\", record.id)\n",
    "    print(\"Sequence:\", record.seq)\n",
    "    print(\"Quality scores:\", record.letter_annotations[\"phred_quality\"])\n",
    "    print(\"-\" * 30)"
   ]
  },
  {
   "cell_type": "code",
   "execution_count": null,
   "id": "ffb7c34c-a07c-47c1-80a7-8a371848c9d8",
   "metadata": {},
   "outputs": [],
   "source": []
  }
 ],
 "metadata": {
  "kernelspec": {
   "display_name": "Python 3 (ipykernel)",
   "language": "python",
   "name": "python3"
  },
  "language_info": {
   "codemirror_mode": {
    "name": "ipython",
    "version": 3
   },
   "file_extension": ".py",
   "mimetype": "text/x-python",
   "name": "python",
   "nbconvert_exporter": "python",
   "pygments_lexer": "ipython3",
   "version": "3.12.3"
  }
 },
 "nbformat": 4,
 "nbformat_minor": 5
}
