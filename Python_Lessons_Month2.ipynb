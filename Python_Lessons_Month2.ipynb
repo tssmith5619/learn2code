{
 "cells": [
  {
   "cell_type": "code",
   "execution_count": 2,
   "id": "511b9aef-7907-4f38-befc-a03778cdc364",
   "metadata": {},
   "outputs": [
    {
     "name": "stdout",
     "output_type": "stream",
     "text": [
      "Collecting biopython\n",
      "  Downloading biopython-1.85-cp312-cp312-manylinux_2_17_x86_64.manylinux2014_x86_64.whl.metadata (13 kB)\n",
      "Collecting numpy (from biopython)\n",
      "  Using cached numpy-2.2.4-cp312-cp312-manylinux_2_17_x86_64.manylinux2014_x86_64.whl.metadata (62 kB)\n",
      "Downloading biopython-1.85-cp312-cp312-manylinux_2_17_x86_64.manylinux2014_x86_64.whl (3.3 MB)\n",
      "\u001b[2K   \u001b[90m━━━━━━━━━━━━━━━━━━━━━━━━━━━━━━━━━━━━━━━━\u001b[0m \u001b[32m3.3/3.3 MB\u001b[0m \u001b[31m5.4 MB/s\u001b[0m eta \u001b[36m0:00:00\u001b[0ma \u001b[36m0:00:01\u001b[0m\n",
      "\u001b[?25hUsing cached numpy-2.2.4-cp312-cp312-manylinux_2_17_x86_64.manylinux2014_x86_64.whl (16.1 MB)\n",
      "Installing collected packages: numpy, biopython\n",
      "Successfully installed biopython-1.85 numpy-2.2.4\n",
      "ATGCTA-GCG\n",
      "|||| | |||\n",
      "ATGC-ATGCG\n",
      "  Score=8\n",
      "\n",
      "ATGC-TAGCG\n",
      "|||| | |||\n",
      "ATGCAT-GCG\n",
      "  Score=8\n",
      "\n"
     ]
    },
    {
     "name": "stderr",
     "output_type": "stream",
     "text": [
      "/home/tuartmith/myenv/lib/python3.12/site-packages/Bio/pairwise2.py:278: BiopythonDeprecationWarning: Bio.pairwise2 has been deprecated, and we intend to remove it in a future release of Biopython. As an alternative, please consider using Bio.Align.PairwiseAligner as a replacement, and contact the Biopython developers if you still need the Bio.pairwise2 module.\n",
      "  warnings.warn(\n"
     ]
    }
   ],
   "source": [
    "!pip install biopython\n",
    "\n",
    "from Bio import pairwise2\n",
    "from Bio.pairwise2 import format_alignment\n",
    "\n",
    "seqA = \"ATGCTAGCG\"\n",
    "seqB = \"ATGCATGCG\"\n",
    "\n",
    "alignments = pairwise2.align.globalxx(seqA,seqB)\n",
    "\n",
    "for alignment in alignments:\n",
    "    print(format_alignment(*alignment))"
   ]
  },
  {
   "cell_type": "code",
   "execution_count": 2,
   "id": "8039ba5b-a891-44d7-bfc6-b0607c3a2029",
   "metadata": {},
   "outputs": [
    {
     "name": "stdout",
     "output_type": "stream",
     "text": [
      "1.85\n"
     ]
    }
   ],
   "source": [
    "import Bio\n",
    "print(Bio.__version__)"
   ]
  },
  {
   "cell_type": "code",
   "execution_count": 3,
   "id": "238706e6-0946-4619-8038-7edbfb657c14",
   "metadata": {},
   "outputs": [
    {
     "name": "stdout",
     "output_type": "stream",
     "text": [
      "target            0 ATGCTA-GCG  9\n",
      "                  0 ||||-|-||| 10\n",
      "query             0 ATGC-ATGCG  9\n",
      "\n",
      "target            0 ATGC-TAGCG  9\n",
      "                  0 ||||-|-||| 10\n",
      "query             0 ATGCAT-GCG  9\n",
      "\n"
     ]
    }
   ],
   "source": [
    "from Bio.Align import PairwiseAligner\n",
    "\n",
    "seqA = \"ATGCTAGCG\"\n",
    "seqB = \"ATGCATGCG\"\n",
    "\n",
    "aligner = PairwiseAligner()\n",
    "alignments = aligner.align(seqA, seqB)\n",
    "\n",
    "# Print top alignment clearly\n",
    "for alignment in alignments:\n",
    "    print(alignment)\n"
   ]
  },
  {
   "cell_type": "code",
   "execution_count": 2,
   "id": "da8e66c6-03fc-41e4-8d7e-1a265c0d4879",
   "metadata": {},
   "outputs": [
    {
     "name": "stdout",
     "output_type": "stream",
     "text": [
      "Alignment with 3 rows and 12 columns\n",
      "ATGCTAGCGTAC seq1\n",
      "ATGCGAGCGTAC seq2\n",
      "ATGCTAACGTGC seq3\n"
     ]
    }
   ],
   "source": [
    "from Bio.Align.Applications import ClustalwCommandline\n",
    "from Bio import AlignIO\n",
    "\n",
    "# Save sequences to FASTA\n",
    "with open(\"example.fasta\", \"w\") as file:\n",
    "    file.write(\">seq1\\nATGCTAGCGTAC\\n\")\n",
    "    file.write(\">seq2\\nATGCGAGCGTAC\\n\")\n",
    "    file.write(\">seq3\\nATGCTAACGTGC\\n\")\n",
    "\n",
    "# Perform MSA\n",
    "cline = ClustalwCommandline(\"clustalw\", infile=\"example.fasta\")\n",
    "stdout, stderr = cline()\n",
    "\n",
    "# Load and print alignment\n",
    "alignment = AlignIO.read(\"example.aln\", \"clustal\")\n",
    "print(alignment)\n"
   ]
  },
  {
   "cell_type": "code",
   "execution_count": 4,
   "id": "92442bc3-0c2e-4804-b2f9-51bf3c1c2826",
   "metadata": {},
   "outputs": [],
   "source": [
    "from Bio.Blast import NCBIWWW, NCBIXML\n",
    "sequence = \"ATGCTAGCGTAC\"  # Shorter = faster response\n",
    "\n",
    "result_handle = NCBIWWW.qblast(\"blastn\", \"nt\", sequence)\n",
    "\n",
    "with open(\"blast_results.xml\", \"w\") as out_handle:\n",
    "    out_handle.write(result_handle.read())\n",
    "    result_handle.close()\n",
    "\n",
    "with open(\"blast_results.xml\") as result_handle:\n",
    "    blast_record = NCBIXML.read(result_handle)\n",
    "\n",
    "for alignment in blast_record.alignments[:3]:\n",
    "    for hsp in alignment.hsps:\n",
    "        print('****Alignment****')\n",
    "        print('Sequence:', alignment.title)\n",
    "        print('Length:', alignment.length)\n",
    "        print('E-value:', hsp.expect)\n",
    "        print(hsp.query[0:50] + '...')\n",
    "        print(hsp.match[0:50] + '...')\n",
    "        print(hsp.sbjt[0.50] + '...')\n"
   ]
  },
  {
   "cell_type": "code",
   "execution_count": 5,
   "id": "1a63a30a-b4f2-447d-a560-18e8826417dd",
   "metadata": {},
   "outputs": [
    {
     "name": "stdout",
     "output_type": "stream",
     "text": [
      "No significant matches found.\n"
     ]
    }
   ],
   "source": [
    "from Bio.Blast import NCBIXML\n",
    "\n",
    "with open(\"blast_results.xml\") as result_handle:\n",
    "    blast_record = NCBIXML.read(result_handle)\n",
    "\n",
    "if blast_record.alignments:\n",
    "    for alignment in blast_record.alignments[:3]:\n",
    "        for hsp in alignment.hsps:\n",
    "            print(\"****Alignment****\")\n",
    "            print(\"Sequence:\", alignment.title)\n",
    "            print(\"Length:\", alignment.length)\n",
    "            print(\"E-value:\", hsp.expect)\n",
    "            print(hsp.query[0:50] + \"...\")\n",
    "            print(hsp.match[0:50] + \"...\")\n",
    "            print(hsp.sbjct[0:50] + \"...\")\n",
    "else:\n",
    "    print(\"No significant matches found.\")\n"
   ]
  },
  {
   "cell_type": "code",
   "execution_count": 6,
   "id": "cb116806-0922-4089-bb2d-3374b7f1c847",
   "metadata": {},
   "outputs": [
    {
     "name": "stdout",
     "output_type": "stream",
     "text": [
      "****Alignment****\n",
      "Sequence: gi|358250872|gb|JN834566.1| Uncultured bacterium clone 264E14TEAT 16S ribosomal RNA gene, partial sequence\n",
      "Length: 870\n",
      "E-value: 6.21254e-24\n",
      "AGAGTTTGATCCTGGCTCAGGATGAACGCTGGCGGCGTGCCTAATACATG...\n",
      "||||||||||||||||||||||||||||||||||||||||||||||||||...\n",
      "AGAGTTTGATCCTGGCTCAGGATGAACGCTGGCGGCGTGCCTAATACATG...\n",
      "****Alignment****\n",
      "Sequence: gi|194136909|gb|EU842346.1| Uncultured bacterium clone 1103200821189 16S ribosomal RNA gene, partial sequence\n",
      "Length: 1476\n",
      "E-value: 6.21254e-24\n",
      "AGAGTTTGATCCTGGCTCAGGATGAACGCTGGCGGCGTGCCTAATACATG...\n",
      "||||||||||||||||||||||||||||||||||||||||||||||||||...\n",
      "AGAGTTTGATCCTGGCTCAGGATGAACGCTGGCGGCGTGCCTAATACATG...\n",
      "****Alignment****\n",
      "Sequence: gi|194139008|gb|EU844445.1| Uncultured bacterium clone 1103200831765 16S ribosomal RNA gene, partial sequence\n",
      "Length: 1354\n",
      "E-value: 6.21254e-24\n",
      "AGAGTTTGATCCTGGCTCAGGATGAACGCTGGCGGCGTGCCTAATACATG...\n",
      "||||||||||||||||||||||||||||||||||||||||||||||||||...\n",
      "AGAGTTTGATCCTGGCTCAGGATGAACGCTGGCGGCGTGCCTAATACATG...\n"
     ]
    }
   ],
   "source": [
    "from Bio.Blast import NCBIWWW, NCBIXML\n",
    "\n",
    "sequence = \"AGAGTTTGATCCTGGCTCAGGATGAACGCTGGCGGCGTGCCTAATACATGCAAGTCGAACGGTGAAGGTTAATGTGGG\"\n",
    "\n",
    "# Submit to NCBI BLAST\n",
    "result_handle = NCBIWWW.qblast(\"blastn\", \"nt\", sequence)\n",
    "\n",
    "# Save the results\n",
    "with open(\"blast_results.xml\", \"w\") as out_handle:\n",
    "    out_handle.write(result_handle.read())\n",
    "    result_handle.close()\n",
    "\n",
    "# Parse and display results\n",
    "with open(\"blast_results.xml\") as result_handle:\n",
    "    blast_record = NCBIXML.read(result_handle)\n",
    "\n",
    "if blast_record.alignments:\n",
    "    for alignment in blast_record.alignments[:3]:\n",
    "        for hsp in alignment.hsps:\n",
    "            print(\"****Alignment****\")\n",
    "            print(\"Sequence:\", alignment.title)\n",
    "            print(\"Length:\", alignment.length)\n",
    "            print(\"E-value:\", hsp.expect)\n",
    "            print(hsp.query[0:50] + \"...\")\n",
    "            print(hsp.match[0:50] + \"...\")\n",
    "            print(hsp.sbjct[0:50] + \"...\")\n",
    "else:\n",
    "    print(\"No significant matches found.\")\n"
   ]
  },
  {
   "cell_type": "code",
   "execution_count": 9,
   "id": "b1ab4143-f912-409d-ad85-797ccca8ef1c",
   "metadata": {},
   "outputs": [
    {
     "name": "stdout",
     "output_type": "stream",
     "text": [
      "Read ID: read1\n",
      "Sequence: ATGCTAGCTAG\n",
      "Quality scores: [40, 40, 40, 40, 40, 40, 40, 40, 40, 40, 40]\n",
      "------------------------------\n",
      "Read ID: read2\n",
      "Sequence: CGTACGTACGA\n",
      "Quality scores: [40, 40, 40, 40, 39, 38, 37, 36, 35, 34, 33]\n",
      "------------------------------\n"
     ]
    }
   ],
   "source": [
    "from Bio import SeqIO\n",
    "\n",
    "with open(\"example.fastq\",\"w\") as file:\n",
    "    file.write(\"@read1\\n\")\n",
    "    file.write(\"ATGCTAGCTAG\\n\")\n",
    "    file.write(\"+\\n\")\n",
    "    file.write(\"IIIIIIIIIII\\n\")\n",
    "    file.write(\"@read2\\n\")\n",
    "    file.write(\"CGTACGTACGA\\n\")\n",
    "    file.write(\"+\\n\")\n",
    "    file.write(\"IIIIHGFEDCB\\n\")\n",
    "\n",
    "for record in SeqIO.parse(\"example.fastq\",\"fastq\"):\n",
    "    print(\"Read ID:\", record.id)\n",
    "    print(\"Sequence:\", record.seq)\n",
    "    print(\"Quality scores:\", record.letter_annotations[\"phred_quality\"])\n",
    "    print(\"-\" * 30)"
   ]
  },
  {
   "cell_type": "code",
   "execution_count": 1,
   "id": "ffb7c34c-a07c-47c1-80a7-8a371848c9d8",
   "metadata": {},
   "outputs": [
    {
     "ename": "ModuleNotFoundError",
     "evalue": "No module named 'vcfpy'",
     "output_type": "error",
     "traceback": [
      "\u001b[31m---------------------------------------------------------------------------\u001b[39m",
      "\u001b[31mModuleNotFoundError\u001b[39m                       Traceback (most recent call last)",
      "\u001b[36mCell\u001b[39m\u001b[36m \u001b[39m\u001b[32mIn[1]\u001b[39m\u001b[32m, line 1\u001b[39m\n\u001b[32m----> \u001b[39m\u001b[32m1\u001b[39m \u001b[38;5;28;01mimport\u001b[39;00m\u001b[38;5;250m \u001b[39m\u001b[34;01mvcfpy\u001b[39;00m\n\u001b[32m      3\u001b[39m \u001b[38;5;28;01mwith\u001b[39;00m \u001b[38;5;28mopen\u001b[39m(\u001b[33m\"\u001b[39m\u001b[33mexample.vcf\u001b[39m\u001b[33m\"\u001b[39m, \u001b[33m\"\u001b[39m\u001b[33mw\u001b[39m\u001b[33m\"\u001b[39m) \u001b[38;5;28;01mas\u001b[39;00m file:\n\u001b[32m      4\u001b[39m     file.write(\u001b[33m\"\u001b[39m\u001b[33m##fileformat=VCFv4.2\u001b[39m\u001b[38;5;130;01m\\n\u001b[39;00m\u001b[33m\"\u001b[39m)\n",
      "\u001b[31mModuleNotFoundError\u001b[39m: No module named 'vcfpy'"
     ]
    }
   ],
   "source": [
    "import vcfpy\n",
    "\n",
    "with open(\"example.vcf\", \"w\") as file:\n",
    "    file.write(\"##fileformat=VCFv4.2\\n\")\n",
    "    file.write(\"#CHROM\\tPOS\\tID\\tREF\\tALT\\tQUAL\\tFILTER\\tINFO\\n\")\n",
    "    file.write(\"chr1\\t12345\\trs123\\tA\\tG\\t99.0\\tPASS\\tDP=35\\n\")\n",
    "    file.write(\"chr1\\t67890\\t.\\tT\\tC\\t87.2\\tPASS\\tDP=42\\n\")\n",
    "    \n",
    "reader = vcfpy.Reader.from_path(\"example.vcf\")\n",
    "for record in reader:\n",
    "    print(\"Chromosome:\", record.CHROM)\n",
    "    print(\"Position:\", record.POS)\n",
    "    print(\"Reference:\", record.REF)\n",
    "    print(\"Alternate:\", record.ALT[0].value)\n",
    "    print(\"Quality:\", record.QUAL)\n",
    "    print(\"INFO:\", record.INFO)\n",
    "    print(\"-\" * 30)"
   ]
  },
  {
   "cell_type": "code",
   "execution_count": 3,
   "id": "207f32f9-d8cb-44ae-8e74-247b0497b805",
   "metadata": {},
   "outputs": [
    {
     "name": "stdout",
     "output_type": "stream",
     "text": [
      "Chromosome: chr1\n",
      "Position: 12345\n",
      "Reference: A\n",
      "Alternate: G\n",
      "Quality: 99.0\n",
      "INFO: {'DP': 35}\n",
      "------------------------------\n",
      "Chromosome: chr1\n",
      "Position: 67890\n",
      "Reference: T\n",
      "Alternate: C\n",
      "Quality: 87.2\n",
      "INFO: {'DP': 42}\n",
      "------------------------------\n"
     ]
    },
    {
     "name": "stderr",
     "output_type": "stream",
     "text": [
      "/home/tuartmith/vcf-env/lib/python3.12/site-packages/vcfpy/header.py:413: FieldInfoNotFound: INFO DP not found using Integer/1 instead\n",
      "  warnings.warn(\n"
     ]
    }
   ],
   "source": [
    "import vcfpy\n",
    "\n",
    "with open(\"example.vcf\", \"w\") as file:\n",
    "    file.write(\"##fileformat=VCFv4.2\\n\")\n",
    "    file.write(\"#CHROM\\tPOS\\tID\\tREF\\tALT\\tQUAL\\tFILTER\\tINFO\\n\")\n",
    "    file.write(\"chr1\\t12345\\trs123\\tA\\tG\\t99.0\\tPASS\\tDP=35\\n\")\n",
    "    file.write(\"chr1\\t67890\\t.\\tT\\tC\\t87.2\\tPASS\\tDP=42\\n\")\n",
    "    \n",
    "reader = vcfpy.Reader.from_path(\"example.vcf\")\n",
    "for record in reader:\n",
    "    print(\"Chromosome:\", record.CHROM)\n",
    "    print(\"Position:\", record.POS)\n",
    "    print(\"Reference:\", record.REF)\n",
    "    print(\"Alternate:\", record.ALT[0].value)\n",
    "    print(\"Quality:\", record.QUAL)\n",
    "    print(\"INFO:\", record.INFO)\n",
    "    print(\"-\" * 30)"
   ]
  },
  {
   "cell_type": "code",
   "execution_count": 4,
   "id": "5903f6ca-2f1b-4d06-90cb-85e18951591b",
   "metadata": {},
   "outputs": [],
   "source": [
    "with open(\"genotypes.vcf\", \"w\") as file:\n",
    "    file.write(\"##fileformat=VCFv4.2\\n\")\n",
    "    file.write(\"##INFO=<ID=DP,Number=1,Type=Integer,Description=\\\"Read Depth\\\">\\n\")\n",
    "    file.write(\"##FORMAT=<ID=GT,Number=1,Type=String,Description=\\\"Genotype\\\">\\n\")\n",
    "    file.write(\"#CHROM\\tPOS\\tID\\tREF\\tALT\\tQUAL\\tFILTER\\tINFO\\tFORMAT\\tsample1\\n\")\n",
    "    file.write(\"chr1\\t12345\\trs123\\tA\\tG\\t99.0\\tPASS\\tDP=35\\tGT\\t0/1\\n\")\n",
    "    file.write(\"chr1\\t67890\\t.\\tT\\tC\\t87.2\\tPASS\\tDP=42\\tGT\\t1/1\\n\")\n"
   ]
  },
  {
   "cell_type": "code",
   "execution_count": 5,
   "id": "606836ae-8eb6-49c3-8674-2b854eddd2b2",
   "metadata": {},
   "outputs": [],
   "source": [
    "import vcfpy\n",
    "\n",
    "reader = vcfpy.Reader.from_path(\"genotypes.vcf\")\n",
    "\n",
    "records = []\n",
    "\n",
    "for record in reader:\n",
    "    row = {\n",
    "        \"CHROM\": record.CHROM,\n",
    "        \"POS\": record.POS,\n",
    "        \"ID\": record.ID,\n",
    "        \"REF\": record.REF,\n",
    "        \"ALT\": record.ALT[0].value,\n",
    "        \"QUAL\": record.QUAL,\n",
    "        \"DP\": record.INFO.get(\"DP\"),\n",
    "        \"Genotype\": record.calls[0].data.get(\"GT\")\n",
    "    }\n",
    "    records.append(row)\n"
   ]
  },
  {
   "cell_type": "code",
   "execution_count": 7,
   "id": "c3a5c08c-5e8b-4fbf-bce2-76a0a7d935d3",
   "metadata": {},
   "outputs": [
    {
     "data": {
      "text/html": [
       "<div>\n",
       "<style scoped>\n",
       "    .dataframe tbody tr th:only-of-type {\n",
       "        vertical-align: middle;\n",
       "    }\n",
       "\n",
       "    .dataframe tbody tr th {\n",
       "        vertical-align: top;\n",
       "    }\n",
       "\n",
       "    .dataframe thead th {\n",
       "        text-align: right;\n",
       "    }\n",
       "</style>\n",
       "<table border=\"1\" class=\"dataframe\">\n",
       "  <thead>\n",
       "    <tr style=\"text-align: right;\">\n",
       "      <th></th>\n",
       "      <th>CHROM</th>\n",
       "      <th>POS</th>\n",
       "      <th>ID</th>\n",
       "      <th>REF</th>\n",
       "      <th>ALT</th>\n",
       "      <th>QUAL</th>\n",
       "      <th>DP</th>\n",
       "      <th>Genotype</th>\n",
       "    </tr>\n",
       "  </thead>\n",
       "  <tbody>\n",
       "    <tr>\n",
       "      <th>0</th>\n",
       "      <td>chr1</td>\n",
       "      <td>12345</td>\n",
       "      <td>[rs123]</td>\n",
       "      <td>A</td>\n",
       "      <td>G</td>\n",
       "      <td>99.0</td>\n",
       "      <td>35</td>\n",
       "      <td>0/1</td>\n",
       "    </tr>\n",
       "    <tr>\n",
       "      <th>1</th>\n",
       "      <td>chr1</td>\n",
       "      <td>67890</td>\n",
       "      <td>[]</td>\n",
       "      <td>T</td>\n",
       "      <td>C</td>\n",
       "      <td>87.2</td>\n",
       "      <td>42</td>\n",
       "      <td>1/1</td>\n",
       "    </tr>\n",
       "  </tbody>\n",
       "</table>\n",
       "</div>"
      ],
      "text/plain": [
       "  CHROM    POS       ID REF ALT  QUAL  DP Genotype\n",
       "0  chr1  12345  [rs123]   A   G  99.0  35      0/1\n",
       "1  chr1  67890       []   T   C  87.2  42      1/1"
      ]
     },
     "execution_count": 7,
     "metadata": {},
     "output_type": "execute_result"
    }
   ],
   "source": [
    "import pandas as pd\n",
    "\n",
    "df = pd.DataFrame(records)\n",
    "df\n"
   ]
  },
  {
   "cell_type": "code",
   "execution_count": 8,
   "id": "af20f675-294b-4e18-899a-9a4932436ed0",
   "metadata": {},
   "outputs": [
    {
     "data": {
      "text/html": [
       "<div>\n",
       "<style scoped>\n",
       "    .dataframe tbody tr th:only-of-type {\n",
       "        vertical-align: middle;\n",
       "    }\n",
       "\n",
       "    .dataframe tbody tr th {\n",
       "        vertical-align: top;\n",
       "    }\n",
       "\n",
       "    .dataframe thead th {\n",
       "        text-align: right;\n",
       "    }\n",
       "</style>\n",
       "<table border=\"1\" class=\"dataframe\">\n",
       "  <thead>\n",
       "    <tr style=\"text-align: right;\">\n",
       "      <th></th>\n",
       "      <th>Sample1</th>\n",
       "      <th>Sample2</th>\n",
       "      <th>Sample3</th>\n",
       "    </tr>\n",
       "    <tr>\n",
       "      <th>Microbe</th>\n",
       "      <th></th>\n",
       "      <th></th>\n",
       "      <th></th>\n",
       "    </tr>\n",
       "  </thead>\n",
       "  <tbody>\n",
       "    <tr>\n",
       "      <th>Bifidobacterium</th>\n",
       "      <td>120</td>\n",
       "      <td>100</td>\n",
       "      <td>130</td>\n",
       "    </tr>\n",
       "    <tr>\n",
       "      <th>Lactobacillus</th>\n",
       "      <td>80</td>\n",
       "      <td>70</td>\n",
       "      <td>90</td>\n",
       "    </tr>\n",
       "    <tr>\n",
       "      <th>Streptococcus</th>\n",
       "      <td>30</td>\n",
       "      <td>50</td>\n",
       "      <td>25</td>\n",
       "    </tr>\n",
       "    <tr>\n",
       "      <th>E. coli</th>\n",
       "      <td>10</td>\n",
       "      <td>20</td>\n",
       "      <td>15</td>\n",
       "    </tr>\n",
       "    <tr>\n",
       "      <th>Clostridium</th>\n",
       "      <td>5</td>\n",
       "      <td>10</td>\n",
       "      <td>8</td>\n",
       "    </tr>\n",
       "  </tbody>\n",
       "</table>\n",
       "</div>"
      ],
      "text/plain": [
       "                 Sample1  Sample2  Sample3\n",
       "Microbe                                   \n",
       "Bifidobacterium      120      100      130\n",
       "Lactobacillus         80       70       90\n",
       "Streptococcus         30       50       25\n",
       "E. coli               10       20       15\n",
       "Clostridium            5       10        8"
      ]
     },
     "execution_count": 8,
     "metadata": {},
     "output_type": "execute_result"
    }
   ],
   "source": [
    "import pandas as pd\n",
    "\n",
    "data = {\n",
    "    \"Microbe\": [\"Bifidobacterium\", \"Lactobacillus\", \"Streptococcus\", \"E. coli\", \"Clostridium\"],\n",
    "    \"Sample1\": [120, 80, 30, 10, 5],\n",
    "    \"Sample2\": [100, 70, 50, 20, 10],\n",
    "    \"Sample3\": [130, 90, 25, 15, 8]\n",
    "}\n",
    "\n",
    "df = pd.DataFrame(data)\n",
    "df.set_index(\"Microbe\", inplace=True)\n",
    "df\n",
    "\n"
   ]
  },
  {
   "cell_type": "code",
   "execution_count": 16,
   "id": "d4a974b7-a9be-4b7d-b6de-4a2b9369b3b8",
   "metadata": {},
   "outputs": [
    {
     "data": {
      "image/png": "[encoded data removed]",
      "text/plain": [
       "<Figure size 1000x600 with 1 Axes>"
      ]
     },
     "metadata": {},
     "output_type": "display_data"
    }
   ],
   "source": [
    "import pandas as pd\n",
    "import matplotlib.pyplot as plt\n",
    "\n",
    "\n",
    "data = {\"Microbe\": [\"Bifidobacterium\", \"Lactobacillus\", \"Streptococcus\", \"E. Coli\", \"Clostridium\"], \"Sample1\": [120,80, 30, 10, 5], \"Sample2\": [100, 70, 50, 20, 10], \"Sample3\": [130, 90, 25, 15, 8]}\n",
    "\n",
    "df = pd.DataFrame(data)\n",
    "df.set_index(\"Microbe\", inplace=True)\n",
    "df\n",
    "\n",
    "relative_abundance = df.div(df.sum(axis=0), axis=1) * 100\n",
    "relative_abundance = relative_abundance.round(2)\n",
    "relative_abundance\n",
    "\n",
    "summary = relative_abundance.describe()\n",
    "summary\n",
    "\n",
    "ax = relative_abundance.T.plot(kind=\"bar\", stacked=True, figsize=(10, 6), colormap=\"tab20\")\n",
    "plt.title(\"Microbial Relative Abundance by Sample\")\n",
    "plt.ylabel(\"Percentage (%)\")\n",
    "plt.xlabel(\"Sample\")\n",
    "plt.legend(bbox_to_anchor=(1.05, 1), loc='upper left')\n",
    "plt.tight_layout()\n",
    "\n",
    "# Add labels to each bar segment\n",
    "for container in ax.containers:\n",
    "    ax.bar_label(container, fmt='%.1f', label_type='center', fontsize=8, color='white')\n",
    "\n",
    "plt.show()\n"
   ]
  },
  {
   "cell_type": "code",
   "execution_count": 17,
   "id": "228f269a-b250-4c17-88ce-4f6373a71b57",
   "metadata": {},
   "outputs": [
    {
     "name": "stdout",
     "output_type": "stream",
     "text": [
      "Microbe\n",
      "Bifidobacterium    45.83\n",
      "Lactobacillus      31.41\n",
      "Streptococcus      13.86\n",
      "E. Coli             5.89\n",
      "Clostridium         3.01\n",
      "dtype: float64\n"
     ]
    }
   ],
   "source": [
    "average_abundance = relative_abundance.mean(axis=1).round(2)\n",
    "average_abundance_sorted = average_abundance.sort_values(ascending=False)\n",
    "print(average_abundance_sorted.round(2))\n"
   ]
  },
  {
   "cell_type": "code",
   "execution_count": 18,
   "id": "137ef29e-76dc-4e50-bb7e-3d6315a687e4",
   "metadata": {},
   "outputs": [
    {
     "data": {
      "text/html": [
       "<div>\n",
       "<style scoped>\n",
       "    .dataframe tbody tr th:only-of-type {\n",
       "        vertical-align: middle;\n",
       "    }\n",
       "\n",
       "    .dataframe tbody tr th {\n",
       "        vertical-align: top;\n",
       "    }\n",
       "\n",
       "    .dataframe thead th {\n",
       "        text-align: right;\n",
       "    }\n",
       "</style>\n",
       "<table border=\"1\" class=\"dataframe\">\n",
       "  <thead>\n",
       "    <tr style=\"text-align: right;\">\n",
       "      <th></th>\n",
       "      <th>Avg % Abundance</th>\n",
       "    </tr>\n",
       "    <tr>\n",
       "      <th>Microbe</th>\n",
       "      <th></th>\n",
       "    </tr>\n",
       "  </thead>\n",
       "  <tbody>\n",
       "    <tr>\n",
       "      <th>Bifidobacterium</th>\n",
       "      <td>45.83</td>\n",
       "    </tr>\n",
       "    <tr>\n",
       "      <th>Lactobacillus</th>\n",
       "      <td>31.41</td>\n",
       "    </tr>\n",
       "    <tr>\n",
       "      <th>Streptococcus</th>\n",
       "      <td>13.86</td>\n",
       "    </tr>\n",
       "    <tr>\n",
       "      <th>E. Coli</th>\n",
       "      <td>5.89</td>\n",
       "    </tr>\n",
       "    <tr>\n",
       "      <th>Clostridium</th>\n",
       "      <td>3.01</td>\n",
       "    </tr>\n",
       "  </tbody>\n",
       "</table>\n",
       "</div>"
      ],
      "text/plain": [
       "                 Avg % Abundance\n",
       "Microbe                         \n",
       "Bifidobacterium            45.83\n",
       "Lactobacillus              31.41\n",
       "Streptococcus              13.86\n",
       "E. Coli                     5.89\n",
       "Clostridium                 3.01"
      ]
     },
     "execution_count": 18,
     "metadata": {},
     "output_type": "execute_result"
    }
   ],
   "source": [
    "average_abundance_df = average_abundance.to_frame(name=\"Avg % Abundance\")\n",
    "average_abundance_df\n",
    "\n"
   ]
  },
  {
   "cell_type": "code",
   "execution_count": null,
   "id": "daf72a83-1194-402e-9039-ac109cbf12bb",
   "metadata": {},
   "outputs": [],
   "source": []
  }
 ],
 "metadata": {
  "kernelspec": {
   "display_name": "Python (vcf-env)",
   "language": "python",
   "name": "vcf-env"
  },
  "language_info": {
   "codemirror_mode": {
    "name": "ipython",
    "version": 3
   },
   "file_extension": ".py",
   "mimetype": "text/x-python",
   "name": "python",
   "nbconvert_exporter": "python",
   "pygments_lexer": "ipython3",
   "version": "3.12.3"
  }
 },
 "nbformat": 4,
 "nbformat_minor": 5
}
