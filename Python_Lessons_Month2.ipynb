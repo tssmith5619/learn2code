{
 "cells": [
  {
   "cell_type": "code",
   "execution_count": 2,
   "id": "511b9aef-7907-4f38-befc-a03778cdc364",
   "metadata": {},
   "outputs": [
    {
     "name": "stdout",
     "output_type": "stream",
     "text": [
      "Collecting biopython\n",
      "  Downloading biopython-1.85-cp312-cp312-manylinux_2_17_x86_64.manylinux2014_x86_64.whl.metadata (13 kB)\n",
      "Collecting numpy (from biopython)\n",
      "  Using cached numpy-2.2.4-cp312-cp312-manylinux_2_17_x86_64.manylinux2014_x86_64.whl.metadata (62 kB)\n",
      "Downloading biopython-1.85-cp312-cp312-manylinux_2_17_x86_64.manylinux2014_x86_64.whl (3.3 MB)\n",
      "\u001b[2K   \u001b[90m━━━━━━━━━━━━━━━━━━━━━━━━━━━━━━━━━━━━━━━━\u001b[0m \u001b[32m3.3/3.3 MB\u001b[0m \u001b[31m5.4 MB/s\u001b[0m eta \u001b[36m0:00:00\u001b[0ma \u001b[36m0:00:01\u001b[0m\n",
      "\u001b[?25hUsing cached numpy-2.2.4-cp312-cp312-manylinux_2_17_x86_64.manylinux2014_x86_64.whl (16.1 MB)\n",
      "Installing collected packages: numpy, biopython\n",
      "Successfully installed biopython-1.85 numpy-2.2.4\n",
      "ATGCTA-GCG\n",
      "|||| | |||\n",
      "ATGC-ATGCG\n",
      "  Score=8\n",
      "\n",
      "ATGC-TAGCG\n",
      "|||| | |||\n",
      "ATGCAT-GCG\n",
      "  Score=8\n",
      "\n"
     ]
    },
    {
     "name": "stderr",
     "output_type": "stream",
     "text": [
      "/home/tuartmith/myenv/lib/python3.12/site-packages/Bio/pairwise2.py:278: BiopythonDeprecationWarning: Bio.pairwise2 has been deprecated, and we intend to remove it in a future release of Biopython. As an alternative, please consider using Bio.Align.PairwiseAligner as a replacement, and contact the Biopython developers if you still need the Bio.pairwise2 module.\n",
      "  warnings.warn(\n"
     ]
    }
   ],
   "source": [
    "!pip install biopython\n",
    "\n",
    "from Bio import pairwise2\n",
    "from Bio.pairwise2 import format_alignment\n",
    "\n",
    "seqA = \"ATGCTAGCG\"\n",
    "seqB = \"ATGCATGCG\"\n",
    "\n",
    "alignments = pairwise2.align.globalxx(seqA,seqB)\n",
    "\n",
    "for alignment in alignments:\n",
    "    print(format_alignment(*alignment))"
   ]
  },
  {
   "cell_type": "code",
   "execution_count": 2,
   "id": "8039ba5b-a891-44d7-bfc6-b0607c3a2029",
   "metadata": {},
   "outputs": [
    {
     "name": "stdout",
     "output_type": "stream",
     "text": [
      "1.85\n"
     ]
    }
   ],
   "source": [
    "import Bio\n",
    "print(Bio.__version__)"
   ]
  },
  {
   "cell_type": "code",
   "execution_count": 3,
   "id": "238706e6-0946-4619-8038-7edbfb657c14",
   "metadata": {},
   "outputs": [
    {
     "name": "stdout",
     "output_type": "stream",
     "text": [
      "target            0 ATGCTA-GCG  9\n",
      "                  0 ||||-|-||| 10\n",
      "query             0 ATGC-ATGCG  9\n",
      "\n",
      "target            0 ATGC-TAGCG  9\n",
      "                  0 ||||-|-||| 10\n",
      "query             0 ATGCAT-GCG  9\n",
      "\n"
     ]
    }
   ],
   "source": [
    "from Bio.Align import PairwiseAligner\n",
    "\n",
    "seqA = \"ATGCTAGCG\"\n",
    "seqB = \"ATGCATGCG\"\n",
    "\n",
    "aligner = PairwiseAligner()\n",
    "alignments = aligner.align(seqA, seqB)\n",
    "\n",
    "# Print top alignment clearly\n",
    "for alignment in alignments:\n",
    "    print(alignment)\n"
   ]
  },
  {
   "cell_type": "code",
   "execution_count": 2,
   "id": "da8e66c6-03fc-41e4-8d7e-1a265c0d4879",
   "metadata": {},
   "outputs": [
    {
     "name": "stdout",
     "output_type": "stream",
     "text": [
      "Alignment with 3 rows and 12 columns\n",
      "ATGCTAGCGTAC seq1\n",
      "ATGCGAGCGTAC seq2\n",
      "ATGCTAACGTGC seq3\n"
     ]
    }
   ],
   "source": [
    "from Bio.Align.Applications import ClustalwCommandline\n",
    "from Bio import AlignIO\n",
    "\n",
    "# Save sequences to FASTA\n",
    "with open(\"example.fasta\", \"w\") as file:\n",
    "    file.write(\">seq1\\nATGCTAGCGTAC\\n\")\n",
    "    file.write(\">seq2\\nATGCGAGCGTAC\\n\")\n",
    "    file.write(\">seq3\\nATGCTAACGTGC\\n\")\n",
    "\n",
    "# Perform MSA\n",
    "cline = ClustalwCommandline(\"clustalw\", infile=\"example.fasta\")\n",
    "stdout, stderr = cline()\n",
    "\n",
    "# Load and print alignment\n",
    "alignment = AlignIO.read(\"example.aln\", \"clustal\")\n",
    "print(alignment)\n"
   ]
  },
  {
   "cell_type": "code",
   "execution_count": 4,
   "id": "92442bc3-0c2e-4804-b2f9-51bf3c1c2826",
   "metadata": {},
   "outputs": [],
   "source": [
    "from Bio.Blast import NCBIWWW, NCBIXML\n",
    "sequence = \"ATGCTAGCGTAC\"  # Shorter = faster response\n",
    "\n",
    "result_handle = NCBIWWW.qblast(\"blastn\", \"nt\", sequence)\n",
    "\n",
    "with open(\"blast_results.xml\", \"w\") as out_handle:\n",
    "    out_handle.write(result_handle.read())\n",
    "    result_handle.close()\n",
    "\n",
    "with open(\"blast_results.xml\") as result_handle:\n",
    "    blast_record = NCBIXML.read(result_handle)\n",
    "\n",
    "for alignment in blast_record.alignments[:3]:\n",
    "    for hsp in alignment.hsps:\n",
    "        print('****Alignment****')\n",
    "        print('Sequence:', alignment.title)\n",
    "        print('Length:', alignment.length)\n",
    "        print('E-value:', hsp.expect)\n",
    "        print(hsp.query[0:50] + '...')\n",
    "        print(hsp.match[0:50] + '...')\n",
    "        print(hsp.sbjt[0.50] + '...')\n"
   ]
  },
  {
   "cell_type": "code",
   "execution_count": null,
   "id": "1a63a30a-b4f2-447d-a560-18e8826417dd",
   "metadata": {},
   "outputs": [],
   "source": []
  }
 ],
 "metadata": {
  "kernelspec": {
   "display_name": "Python 3 (ipykernel)",
   "language": "python",
   "name": "python3"
  },
  "language_info": {
   "codemirror_mode": {
    "name": "ipython",
    "version": 3
   },
   "file_extension": ".py",
   "mimetype": "text/x-python",
   "name": "python",
   "nbconvert_exporter": "python",
   "pygments_lexer": "ipython3",
   "version": "3.12.3"
  }
 },
 "nbformat": 4,
 "nbformat_minor": 5
}
