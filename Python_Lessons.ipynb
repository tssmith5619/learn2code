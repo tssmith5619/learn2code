{
 "cells": [
  {
   "cell_type": "code",
   "execution_count": 1,
   "id": "b3932ef7-6170-46d9-b509-3fc73c1062cc",
   "metadata": {},
   "outputs": [],
   "source": [
    "age = 42"
   ]
  },
  {
   "cell_type": "code",
   "execution_count": 2,
   "id": "7c608e00-4653-479c-8818-6ca3364ea583",
   "metadata": {},
   "outputs": [],
   "source": [
    "height = 165.1"
   ]
  },
  {
   "cell_type": "code",
   "execution_count": 3,
   "id": "da74212e-e27a-4950-a794-cdbc73c30343",
   "metadata": {},
   "outputs": [],
   "source": [
    "microbe = \"infantis\""
   ]
  },
  {
   "cell_type": "code",
   "execution_count": 4,
   "id": "2f4b72c7-6d2f-402e-a6aa-e2d4f27b0597",
   "metadata": {},
   "outputs": [],
   "source": [
    "is_ready = False"
   ]
  },
  {
   "cell_type": "code",
   "execution_count": 7,
   "id": "2e83fcf5-98e3-4623-a6ea-1a3b5466dcef",
   "metadata": {},
   "outputs": [
    {
     "name": "stdout",
     "output_type": "stream",
     "text": [
      "42\n",
      "165.1\n",
      "infantis\n",
      "False\n"
     ]
    }
   ],
   "source": [
    "print(age)\n",
    "print(height)\n",
    "print(microbe)\n",
    "print(is_ready)"
   ]
  },
  {
   "cell_type": "code",
   "execution_count": 9,
   "id": "b3be5a6d-67c3-4193-8c18-a2b722b35d04",
   "metadata": {},
   "outputs": [
    {
     "name": "stdout",
     "output_type": "stream",
     "text": [
      "One of my favorite microbes is: Bifidobacterium\n",
      "One of my favorite microbes is: Lactobacillus\n",
      "One of my favorite microbes is: Streptococcus\n"
     ]
    }
   ],
   "source": [
    "favorite_microbes=[\"Bifidobacterium\",\"Lactobacillus\",\"Streptococcus\"]\n",
    "for favorite_microbe in favorite_microbes:\n",
    "    print(\"One of my favorite microbes is:\", favorite_microbe) "
   ]
  },
  {
   "cell_type": "code",
   "execution_count": 13,
   "id": "9df05021-e904-4bdf-9158-de6025c08340",
   "metadata": {},
   "outputs": [
    {
     "name": "stdout",
     "output_type": "stream",
     "text": [
      "Beneficial microbe: Bifidobacterium\n",
      "Potentially harmful microbe: E. coli\n",
      "Beneficial microbe: Lactobacillus\n",
      "Potentially harmful microbe: Salmonella\n"
     ]
    }
   ],
   "source": [
    "microbes=[\"Bifidobacterium\",\"E. coli\",\"Lactobacillus\",\"Salmonella\"]\n",
    "for microbe in microbes:\n",
    "    if microbe == \"Bifidobacterium\":\n",
    "        print(\"Beneficial microbe:\",microbe)\n",
    "    elif microbe == \"Lactobacillus\":\n",
    "        print(\"Beneficial microbe:\",microbe)\n",
    "    else: \n",
    "        print(\"Potentially harmful microbe:\",microbe)"
   ]
  },
  {
   "cell_type": "code",
   "execution_count": 15,
   "id": "4a908e92-1393-4c73-8f0c-01bfebecc33d",
   "metadata": {},
   "outputs": [
    {
     "name": "stdout",
     "output_type": "stream",
     "text": [
      "Beneficial microbe: Bifidobacterium\n",
      "Potential pathogen detected: E. coli\n",
      "Beneficial microbe: Lactobacillus\n",
      "Potential pathogen detected: Salmonella\n"
     ]
    }
   ],
   "source": [
    "microbes=[\"Bifidobacterium\",\"E. coli\",\"Lactobacillus\",\"Salmonella\"]\n",
    "for microbe in microbes:\n",
    "    if microbe in [\"Bifidobacterium\",\"Lactobacillus\"]:\n",
    "        print(\"Beneficial microbe:\",microbe)\n",
    "    else:\n",
    "        print(\"Potential pathogen detected:\",microbe)"
   ]
  },
  {
   "cell_type": "code",
   "execution_count": 18,
   "id": "ac666a7c-5f5c-4b58-b4f8-bc4fbafff4bc",
   "metadata": {},
   "outputs": [
    {
     "name": "stdout",
     "output_type": "stream",
     "text": [
      "Beneficial\n",
      "Pathogen\n"
     ]
    }
   ],
   "source": [
    "def classify_microbe(microbe_name):\n",
    "    if microbe_name in [\"Salmonella\",\"E. Coli\"]:\n",
    "        print(\"Pathogen\")\n",
    "    else:\n",
    "        print(\"Beneficial\")\n",
    "classify_microbe(\"Lactobacillus\")\n",
    "classify_microbe(\"Salmonella\")"
   ]
  },
  {
   "cell_type": "code",
   "execution_count": 1,
   "id": "71a32d68-4a49-46ac-8891-db3c4c6ce645",
   "metadata": {},
   "outputs": [],
   "source": [
    "from Bio.Seq import Seq\n",
    "from Bio.SeqUtils import gc_fraction"
   ]
  },
  {
   "cell_type": "code",
   "execution_count": 21,
   "id": "30e8f7b0-c4bc-4fdd-8ef9-66c7775f8912",
   "metadata": {},
   "outputs": [
    {
     "name": "stdout",
     "output_type": "stream",
     "text": [
      "GC-content: 53.85%\n"
     ]
    }
   ],
   "source": [
    "sequence=Seq(\"ATGCTAGCGTACGTAGCTAGCGTACG\")\n",
    "gc=gc_fraction(sequence)*100\n",
    "print(f\"GC-content: {gc:.2f}%\")"
   ]
  },
  {
   "cell_type": "code",
   "execution_count": 22,
   "id": "5bee9a34-1feb-460d-9b06-c9f9751d97bf",
   "metadata": {},
   "outputs": [
    {
     "name": "stdout",
     "output_type": "stream",
     "text": [
      "Motif 'CGTA' found at position [7, 11, 20]\n"
     ]
    }
   ],
   "source": [
    "motif=\"CGTA\"\n",
    "positions = []\n",
    "start = 0\n",
    "while True:\n",
    "    position=sequence.find(motif,start)\n",
    "    if position ==-1:\n",
    "        break\n",
    "    positions.append(position)\n",
    "    start = position + 1\n",
    "print(f\"Motif '{motif}' found at position {positions}\")\n"
   ]
  },
  {
   "cell_type": "code",
   "execution_count": 28,
   "id": "42767b4f-5e4d-4e82-8cb8-654872340df0",
   "metadata": {},
   "outputs": [
    {
     "name": "stdout",
     "output_type": "stream",
     "text": [
      "Sequence ID: seq1\n",
      "GC-content: 57.89%\n",
      "Motif 'GATC' found at positions: [6, 10]\n",
      "Sequence ID: seq2\n",
      "GC-content: 65.00%\n",
      "Motif 'GATC' not found.\n",
      "Sequence ID: seq3\n",
      "GC-content: 36.84%\n",
      "Motif 'GATC' found at positions: [10]\n"
     ]
    }
   ],
   "source": [
    "with open(\"bio_pipeline.fasta\",\"w\") as file:\n",
    "    file.write(\">seq1\\nATGCGCGATCGATCGTAGC\\n\")\n",
    "    file.write(\">seq2\\nGCGCGATATCGATAGCGCGC\\n\")\n",
    "    file.write(\">seq3\\nATATATGCGCGATCGATAT\\n\")\n",
    "\n",
    "from Bio import SeqIO\n",
    "from Bio.SeqUtils import gc_fraction\n",
    "motif=\"GATC\"\n",
    "\n",
    "for record in SeqIO.parse(\"bio_pipeline.fasta\",\"fasta\"):\n",
    "    sequence = record.seq\n",
    "    gc_content = gc_fraction(sequence)*100\n",
    "\n",
    "    positions = []\n",
    "    start = 0\n",
    "    while True:\n",
    "        position = sequence.find(motif,start)\n",
    "        if position == -1:\n",
    "            break\n",
    "        positions.append(position)\n",
    "        start = position +1\n",
    "\n",
    "    print(f\"Sequence ID: {record.id}\")\n",
    "    print(f\"GC-content: {gc_content:.2f}%\")\n",
    "    if positions:\n",
    "        print(f\"Motif '{motif}' found at positions: {positions}\")\n",
    "    else:\n",
    "        print(f\"Motif '{motif}' not found.\")\n",
    "    print(\"-\"*30)"
   ]
  },
  {
   "cell_type": "code",
   "execution_count": 29,
   "id": "c8fab8da-6959-42ce-8301-bc5a76b72861",
   "metadata": {},
   "outputs": [],
   "source": [
    "with open(\"microbial_sequence.fasta\",\"w\") as file:\n",
    "    file.write(\">microbeA\\nATGCTAGCATCGATGCGATG\\n\")\n",
    "    file.write(\">microbeB\\nGCGCGATATCGATCGCGCGA\\n\")\n",
    "    file.write(\">microbeC\\nATATATGCGCGATCGATATG\\n\")"
   ]
  },
  {
   "cell_type": "code",
   "execution_count": 31,
   "id": "5fdea968-6909-4e4a-b8b5-a6170f03b24e",
   "metadata": {},
   "outputs": [
    {
     "name": "stdout",
     "output_type": "stream",
     "text": [
      "  Sequence ID  Length  GC-content  Motif count\n",
      "0    microbeA      20        50.0            1\n",
      "1    microbeB      20        65.0            2\n",
      "2    microbeC      20        40.0            1\n"
     ]
    }
   ],
   "source": [
    "import pandas as pd\n",
    "from Bio import SeqIO\n",
    "from Bio.SeqUtils import gc_fraction\n",
    "\n",
    "motif = \"ATCG\"\n",
    "\n",
    "sequence_data = []\n",
    "\n",
    "for record in SeqIO.parse(\"microbial_sequence.fasta\",\"fasta\"):\n",
    "    sequence = record.seq\n",
    "    gc_content = gc_fraction(sequence) * 100\n",
    "    motif_count = sequence.count(motif)\n",
    "\n",
    "    sequence_data.append({ \"Sequence ID\": record.id, \"Length\": len(sequence), \"GC-content\": round(gc_content, 2), \"Motif count\": motif_count})\n",
    "\n",
    "df = pd.DataFrame(sequence_data)\n",
    "print(df)"
   ]
  },
  {
   "cell_type": "code",
   "execution_count": 38,
   "id": "0b8f7a9d-7da2-49b9-a8b8-e854f93b11cf",
   "metadata": {},
   "outputs": [
    {
     "name": "stdout",
     "output_type": "stream",
     "text": [
      "  Sequence ID  Length  GC-content  Motif count\n",
      "0        seq1      19       57.89            1\n",
      "1        seq2      20       65.00            0\n",
      "2        seq3      19       36.84            0\n"
     ]
    }
   ],
   "source": [
    "def motif_analysis_pipeline(input_fasta, motif, output_csv):\n",
    "    sequence_data  = []\n",
    "\n",
    "    for record in SeqIO.parse(input_fasta, \"fasta\"):\n",
    "        sequence = record.seq\n",
    "        gc_content = gc_fraction(sequence) * 100\n",
    "        motif_count = sequence.count(motif)\n",
    "\n",
    "        sequence_data.append({\"Sequence ID\": record.id, \"Length\": len(sequence), \"GC-content\": round(gc_content, 2), \"Motif count\": motif_count})\n",
    "\n",
    "    df = pd.DataFrame(sequence_data)\n",
    "\n",
    "    df.to_csv(output_csv, index=False)\n",
    "\n",
    "    print(df)\n",
    "    \n",
    "motif_analysis_pipeline(\"bio_pipeline.fasta\", \"CGTA\", \"motif_analysis_results.csv\")\n",
    "\n"
   ]
  },
  {
   "cell_type": "code",
   "execution_count": 1,
   "id": "d5186705-0545-4dc8-b55e-479cad3897c5",
   "metadata": {},
   "outputs": [
    {
     "name": "stdout",
     "output_type": "stream",
     "text": [
      "Defaulting to user installation because normal site-packages is not writeable\n",
      "Looking in links: /usr/share/pip-wheels\n",
      "Requirement already satisfied: matplotlib in /opt/conda/envs/anaconda-panel-2023.05-py310/lib/python3.11/site-packages (3.7.2)\n",
      "Requirement already satisfied: contourpy>=1.0.1 in /opt/conda/envs/anaconda-panel-2023.05-py310/lib/python3.11/site-packages (from matplotlib) (1.0.5)\n",
      "Requirement already satisfied: cycler>=0.10 in /opt/conda/envs/anaconda-panel-2023.05-py310/lib/python3.11/site-packages (from matplotlib) (0.11.0)\n",
      "Requirement already satisfied: fonttools>=4.22.0 in /opt/conda/envs/anaconda-panel-2023.05-py310/lib/python3.11/site-packages (from matplotlib) (4.25.0)\n",
      "Requirement already satisfied: kiwisolver>=1.0.1 in /opt/conda/envs/anaconda-panel-2023.05-py310/lib/python3.11/site-packages (from matplotlib) (1.4.4)\n",
      "Requirement already satisfied: numpy>=1.20 in /opt/conda/envs/anaconda-panel-2023.05-py310/lib/python3.11/site-packages (from matplotlib) (1.24.3)\n",
      "Requirement already satisfied: packaging>=20.0 in /opt/conda/envs/anaconda-panel-2023.05-py310/lib/python3.11/site-packages (from matplotlib) (23.1)\n",
      "Requirement already satisfied: pillow>=6.2.0 in /opt/conda/envs/anaconda-panel-2023.05-py310/lib/python3.11/site-packages (from matplotlib) (9.4.0)\n",
      "Requirement already satisfied: pyparsing<3.1,>=2.3.1 in /opt/conda/envs/anaconda-panel-2023.05-py310/lib/python3.11/site-packages (from matplotlib) (3.0.9)\n",
      "Requirement already satisfied: python-dateutil>=2.7 in /opt/conda/envs/anaconda-panel-2023.05-py310/lib/python3.11/site-packages (from matplotlib) (2.8.2)\n",
      "Requirement already satisfied: six>=1.5 in /opt/conda/envs/anaconda-panel-2023.05-py310/lib/python3.11/site-packages (from python-dateutil>=2.7->matplotlib) (1.16.0)\n"
     ]
    }
   ],
   "source": [
    "!pip install matplotlib\n"
   ]
  },
  {
   "cell_type": "code",
   "execution_count": 2,
   "id": "10973e49-6221-42be-a606-c0e6e0e545ad",
   "metadata": {},
   "outputs": [
    {
     "name": "stderr",
     "output_type": "stream",
     "text": [
      "Matplotlib is building the font cache; this may take a moment.\n"
     ]
    }
   ],
   "source": [
    "import matplotlib.pyplot as plt\n"
   ]
  },
  {
   "cell_type": "code",
   "execution_count": 5,
   "id": "9c439eb9-9c17-4d08-afc4-b4e251bcd6ed",
   "metadata": {},
   "outputs": [
    {
     "data": {
      "image/png": "[encoded data removed]",
      "text/plain": [
       "<Figure size 640x480 with 1 Axes>"
      ]
     },
     "metadata": {},
     "output_type": "display_data"
    }
   ],
   "source": [
    "sequence_ids = ['seq1', 'seq2', 'seq3']\n",
    "motif_count = [1,0,1]\n",
    "\n",
    "plt.bar(sequence_ids, motif_count, color ='blue')\n",
    "\n",
    "plt.title('Total Motif Counts')\n",
    "plt.xlabel('Sequence ID')\n",
    "plt.ylabel('Motif Count')\n",
    "plt.ylim(0,2)\n",
    "plt.show()"
   ]
  },
  {
   "cell_type": "code",
   "execution_count": 14,
   "id": "f6d7069d-a765-4d43-8909-89a90769b588",
   "metadata": {},
   "outputs": [
    {
     "data": {
      "image/png": "[encoded data removed]",
      "text/plain": [
       "<Figure size 640x480 with 1 Axes>"
      ]
     },
     "metadata": {},
     "output_type": "display_data"
    }
   ],
   "source": [
    "import matplotlib.pyplot as plt\n",
    "length = [100, 120, 90]\n",
    "GC_content = [45.0, 60.0, 50.0]\n",
    "plt.scatter(length, GC_content, color = 'green')\n",
    "plt.title('Seq Length vs. GC-Content')\n",
    "plt.xlabel('Length')\n",
    "plt.ylabel('GC-Content')\n",
    "plt.grid()\n",
    "plt.show()"
   ]
  },
  {
   "cell_type": "code",
   "execution_count": 16,
   "id": "243085a2-2b42-4b79-b1b4-57a9a66eea83",
   "metadata": {},
   "outputs": [
    {
     "data": {
      "image/png": "[encoded data removed]",
      "text/plain": [
       "<Figure size 640x480 with 2 Axes>"
      ]
     },
     "metadata": {},
     "output_type": "display_data"
    }
   ],
   "source": [
    "import seaborn as sns\n",
    "import matplotlib.pyplot as plt\n",
    "import pandas as pd\n",
    "\n",
    "data = {\"motif1\": [2, 1, 0], \"motif2\": [0, 3, 2], \"motif3\": [1, 2, 1]}\n",
    "sequences = [\"seq1\", \"seq2\", \"seq3\"]\n",
    "df = pd.DataFrame(data, index=sequences)\n",
    "\n",
    "sns.heatmap(df, cmap='Blues', annot=True)\n",
    "\n",
    "plt.title(\"Sequences' Motif Count\")\n",
    "\n",
    "plt.show()"
   ]
  },
  {
   "cell_type": "code",
   "execution_count": null,
   "id": "9a566ab8-e656-4259-8334-e01f68b08566",
   "metadata": {},
   "outputs": [],
   "source": []
  }
 ],
 "metadata": {
  "kernelspec": {
   "display_name": "anaconda-panel-2023.05-py310",
   "language": "python",
   "name": "conda-env-anaconda-panel-2023.05-py310-py"
  },
  "language_info": {
   "codemirror_mode": {
    "name": "ipython",
    "version": 3
   },
   "file_extension": ".py",
   "mimetype": "text/x-python",
   "name": "python",
   "nbconvert_exporter": "python",
   "pygments_lexer": "ipython3",
   "version": "3.11.5"
  }
 },
 "nbformat": 4,
 "nbformat_minor": 5
}
