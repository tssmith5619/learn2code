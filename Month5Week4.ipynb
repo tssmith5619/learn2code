{
 "cells": [
  {
   "cell_type": "code",
   "execution_count": 1,
   "id": "e0b03d24",
   "metadata": {},
   "outputs": [
    {
     "name": "stdout",
     "output_type": "stream",
     "text": [
      "models/model_v2.joblib vs models/model_v3.joblib\n",
      "✅ Agreement with each other: 1.00\n",
      "🏆 Best performing model: models/model_v2.joblib\n"
     ]
    }
   ],
   "source": [
    "from ml_training.pipeline import compare_models\n",
    "best_model = compare_models(\"models/model_v2.joblib\", \"models/model_v3.joblib\", \"microbial_counts.csv\")\n",
    "print(\"🏆 Best performing model:\", best_model)\n"
   ]
  },
  {
   "cell_type": "code",
   "execution_count": 6,
   "id": "4d6ee3e7",
   "metadata": {},
   "outputs": [
    {
     "name": "stdout",
     "output_type": "stream",
     "text": [
      "🚀 Promoted model version v2 to current_model.joblib\n"
     ]
    }
   ],
   "source": [
    "from ml_training.pipeline import promote_model\n",
    "promote_model(\"v2\")"
   ]
  }
 ],
 "metadata": {
  "kernelspec": {
   "display_name": "bioenv-tf",
   "language": "python",
   "name": "python3"
  },
  "language_info": {
   "codemirror_mode": {
    "name": "ipython",
    "version": 3
   },
   "file_extension": ".py",
   "mimetype": "text/x-python",
   "name": "python",
   "nbconvert_exporter": "python",
   "pygments_lexer": "ipython3",
   "version": "3.11.12"
  }
 },
 "nbformat": 4,
 "nbformat_minor": 5
}
